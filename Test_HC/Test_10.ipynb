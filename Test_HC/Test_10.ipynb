{
 "cells": [
  {
   "cell_type": "markdown",
   "metadata": {},
   "source": [
    "## Entrada / Salida"
   ]
  },
  {
   "cell_type": "code",
   "execution_count": 6,
   "metadata": {},
   "outputs": [],
   "source": [
    "import unittest\n",
    "import os\n",
    "import checkpoint as ch"
   ]
  },
  {
   "cell_type": "code",
   "execution_count": 7,
   "metadata": {},
   "outputs": [],
   "source": [
    "class HenryChallenge(unittest.TestCase):\n",
    "    \n",
    "    def test_ListaEnteros(self):\n",
    "      lista_test = ch.ListaEnteros(1, 10)\n",
    "      lista_esperada = [1,2,3,4,5,6,7,8,9,10]\n",
    "      self.assertEqual(lista_test, lista_esperada)\n",
    "\n",
    "    def test_ListaEnteros2(self):\n",
    "      lista_test = ch.ListaEnteros(1, 10)\n",
    "      lista_esperada = [1,2,3,4,5]\n",
    "      self.assertEqual(lista_test, lista_esperada)\n"
   ]
  },
  {
   "cell_type": "code",
   "execution_count": 8,
   "metadata": {},
   "outputs": [
    {
     "name": "stderr",
     "output_type": "stream",
     "text": [
      "test_ListaEnteros (__main__.HenryChallenge) ... ok\n",
      "test_ListaEnteros2 (__main__.HenryChallenge) ... FAIL\n",
      "\n",
      "======================================================================\n",
      "FAIL: test_ListaEnteros2 (__main__.HenryChallenge)\n",
      "----------------------------------------------------------------------\n",
      "Traceback (most recent call last):\n",
      "  File \"C:\\Users\\lopez\\AppData\\Local\\Temp/ipykernel_10300/2323808886.py\", line 11, in test_ListaEnteros2\n",
      "    self.assertEqual(lista_test, lista_esperada)\n",
      "AssertionError: Lists differ: [1, 2, 3, 4, 5, 6, 7, 8, 9, 10] != [1, 2, 3, 4, 5]\n",
      "\n",
      "First list contains 5 additional elements.\n",
      "First extra element 5:\n",
      "6\n",
      "\n",
      "- [1, 2, 3, 4, 5, 6, 7, 8, 9, 10]\n",
      "+ [1, 2, 3, 4, 5]\n",
      "\n",
      "----------------------------------------------------------------------\n",
      "Ran 2 tests in 0.002s\n",
      "\n",
      "FAILED (failures=1)\n"
     ]
    }
   ],
   "source": [
    "resultado = unittest.main(argv=[''], verbosity=2, exit=False)"
   ]
  },
  {
   "cell_type": "code",
   "execution_count": 14,
   "metadata": {},
   "outputs": [
    {
     "data": {
      "text/plain": [
       "2"
      ]
     },
     "execution_count": 14,
     "metadata": {},
     "output_type": "execute_result"
    }
   ],
   "source": [
    "resultado.result.testsRun"
   ]
  },
  {
   "cell_type": "code",
   "execution_count": 15,
   "metadata": {},
   "outputs": [
    {
     "data": {
      "text/plain": [
       "1"
      ]
     },
     "execution_count": 15,
     "metadata": {},
     "output_type": "execute_result"
    }
   ],
   "source": [
    "len(resultado.result.failures)"
   ]
  },
  {
   "cell_type": "code",
   "execution_count": 17,
   "metadata": {},
   "outputs": [],
   "source": [
    "archivo = open('resultado_test.csv', 'w')"
   ]
  },
  {
   "cell_type": "code",
   "execution_count": 18,
   "metadata": {},
   "outputs": [
    {
     "data": {
      "text/plain": [
       "25"
      ]
     },
     "execution_count": 18,
     "metadata": {},
     "output_type": "execute_result"
    }
   ],
   "source": [
    "archivo.write('Total_Tests,Total_Fallas\\n')"
   ]
  },
  {
   "cell_type": "code",
   "execution_count": 19,
   "metadata": {},
   "outputs": [
    {
     "data": {
      "text/plain": [
       "4"
      ]
     },
     "execution_count": 19,
     "metadata": {},
     "output_type": "execute_result"
    }
   ],
   "source": [
    "archivo.write(str(resultado.result.testsRun)+','+str(len(resultado.result.failures))+'\\n')"
   ]
  },
  {
   "cell_type": "code",
   "execution_count": 21,
   "metadata": {},
   "outputs": [],
   "source": [
    "archivo.close()"
   ]
  }
 ],
 "metadata": {
  "interpreter": {
   "hash": "c85384e4cb51c8b72350f3a8712cc8351fdc3955e32a27f9b60c6242ab125f01"
  },
  "kernelspec": {
   "display_name": "Python 3 (ipykernel)",
   "language": "python",
   "name": "python3"
  },
  "language_info": {
   "codemirror_mode": {
    "name": "ipython",
    "version": 3
   },
   "file_extension": ".py",
   "mimetype": "text/x-python",
   "name": "python",
   "nbconvert_exporter": "python",
   "pygments_lexer": "ipython3",
   "version": "3.9.7"
  }
 },
 "nbformat": 4,
 "nbformat_minor": 4
}
